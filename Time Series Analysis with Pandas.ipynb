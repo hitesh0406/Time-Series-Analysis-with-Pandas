{
 "cells": [
  {
   "cell_type": "code",
   "execution_count": 16,
   "id": "14cea21d-4054-46aa-80b5-ee5d88a24528",
   "metadata": {},
   "outputs": [
    {
     "name": "stdout",
     "output_type": "stream",
     "text": [
      "   PassengerId  Survived  Pclass  \\\n",
      "0          892         0       3   \n",
      "1          893         1       3   \n",
      "2          894         0       2   \n",
      "3          895         0       3   \n",
      "4          896         1       3   \n",
      "5          897         0       3   \n",
      "6          898         1       3   \n",
      "7          899         0       2   \n",
      "8          900         1       3   \n",
      "9          901         0       3   \n",
      "\n",
      "                                           Name     Sex   Age  SibSp  Parch  \\\n",
      "0                              Kelly, Mr. James    male  34.5      0      0   \n",
      "1              Wilkes, Mrs. James (Ellen Needs)  female  47.0      1      0   \n",
      "2                     Myles, Mr. Thomas Francis    male  62.0      0      0   \n",
      "3                              Wirz, Mr. Albert    male  27.0      0      0   \n",
      "4  Hirvonen, Mrs. Alexander (Helga E Lindqvist)  female  22.0      1      1   \n",
      "5                    Svensson, Mr. Johan Cervin    male  14.0      0      0   \n",
      "6                          Connolly, Miss. Kate  female  30.0      0      0   \n",
      "7                  Caldwell, Mr. Albert Francis    male  26.0      1      1   \n",
      "8     Abrahim, Mrs. Joseph (Sophie Halaut Easu)  female  18.0      0      0   \n",
      "9                       Davies, Mr. John Samuel    male  21.0      2      0   \n",
      "\n",
      "      Ticket     Fare Cabin Embarked  Rolling_Fare  Lagged_Fare  Rolling_Age  \\\n",
      "0     330911   7.8292   NaN        Q           NaN          NaN          NaN   \n",
      "1     363272   7.0000   NaN        S           NaN       7.8292          NaN   \n",
      "2     240276   9.6875   NaN        Q           NaN       7.0000    47.833333   \n",
      "3     315154   8.6625   NaN        S           NaN       9.6875    45.333333   \n",
      "4    3101298  12.2875   NaN        S       9.09334       8.6625    37.000000   \n",
      "5       7538   9.2250   NaN        S       9.37250      12.2875    21.000000   \n",
      "6     330972   7.6292   NaN        Q       9.49834       9.2250    22.000000   \n",
      "7     248738  29.0000   NaN        S      13.36084       7.6292    23.333333   \n",
      "8       2657   7.2292   NaN        C      13.07418      29.0000    24.666667   \n",
      "9  A/4 48871  24.1500   NaN        S      15.44668       7.2292    21.666667   \n",
      "\n",
      "   Lagged_Survived  \n",
      "0              NaN  \n",
      "1              NaN  \n",
      "2              0.0  \n",
      "3              1.0  \n",
      "4              0.0  \n",
      "5              0.0  \n",
      "6              1.0  \n",
      "7              0.0  \n",
      "8              1.0  \n",
      "9              0.0  \n"
     ]
    }
   ],
   "source": [
    "import pandas as pd\n",
    "import numpy as np\n",
    "\n",
    "df = pd.read_csv('tested.csv')\n",
    "\n",
    "df['Rolling_Fare'] = df['Fare'].rolling(window=5).mean()\n",
    "df['Lagged_Fare'] = df['Fare'].shift(1)\n",
    "df['Rolling_Age'] = df['Age'].rolling(window=3).mean()\n",
    "df['Lagged_Survived'] = df['Survived'].shift(2)\n",
    "\n",
    "print(df.head(10))\n"
   ]
  },
  {
   "cell_type": "code",
   "execution_count": null,
   "id": "67fd3200-76cb-4f38-9944-edfe0a6cab35",
   "metadata": {},
   "outputs": [],
   "source": []
  }
 ],
 "metadata": {
  "kernelspec": {
   "display_name": "Python 3 (ipykernel)",
   "language": "python",
   "name": "python3"
  },
  "language_info": {
   "codemirror_mode": {
    "name": "ipython",
    "version": 3
   },
   "file_extension": ".py",
   "mimetype": "text/x-python",
   "name": "python",
   "nbconvert_exporter": "python",
   "pygments_lexer": "ipython3",
   "version": "3.12.4"
  }
 },
 "nbformat": 4,
 "nbformat_minor": 5
}
